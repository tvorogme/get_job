{
 "cells": [
  {
   "cell_type": "code",
   "execution_count": 1,
   "metadata": {
    "collapsed": false
   },
   "outputs": [],
   "source": [
    "import numpy as np\n",
    "import pickle\n",
    "import sklearn.feature_extraction.text as text_a\n",
    "import re\n",
    "from collections import Counter\n",
    "import nltk\n",
    "from nltk.stem.wordnet import WordNetLemmatizer\n",
    "from sklearn.decomposition import PCA\n",
    "from tqdm import tqdm\n",
    "from scipy import spatial\n",
    "from nltk.corpus import stopwords\n",
    "import json\n",
    "from nltk.cluster.kmeans import KMeansClusterer\n",
    "from scipy.spatial.distance import cosine"
   ]
  },
  {
   "cell_type": "code",
   "execution_count": 2,
   "metadata": {
    "collapsed": true
   },
   "outputs": [],
   "source": [
    "lemmatizer = WordNetLemmatizer()"
   ]
  },
  {
   "cell_type": "code",
   "execution_count": 3,
   "metadata": {
    "collapsed": false
   },
   "outputs": [],
   "source": [
    "texts = pickle.load(open(\"answer.pck\", \"rb\"))"
   ]
  },
  {
   "cell_type": "code",
   "execution_count": 4,
   "metadata": {
    "collapsed": true
   },
   "outputs": [],
   "source": [
    "tuples = pickle.load(open(\"tuples (2).pck\", \"rb\"))"
   ]
  },
  {
   "cell_type": "code",
   "execution_count": 5,
   "metadata": {
    "collapsed": false
   },
   "outputs": [],
   "source": [
    "for i in range(len(texts)):\n",
    "    texts[i] = texts[i][texts[i].replace(\".\",\" \").index(\"Responsibilities\"):][16:-152]"
   ]
  },
  {
   "cell_type": "code",
   "execution_count": 6,
   "metadata": {
    "collapsed": true
   },
   "outputs": [],
   "source": [
    "coursera = pickle.load(open(\"coursera.p\", \"rb\"))"
   ]
  },
  {
   "cell_type": "code",
   "execution_count": 9,
   "metadata": {
    "collapsed": false
   },
   "outputs": [],
   "source": [
    "coursera_texts = [i[\"description\"] for i in coursera]"
   ]
  },
  {
   "cell_type": "code",
   "execution_count": 10,
   "metadata": {
    "collapsed": false
   },
   "outputs": [],
   "source": [
    "def clear_text(text):\n",
    "    global lemmatizer\n",
    "    \n",
    "    tmp_text = \"\"\n",
    "    \n",
    "    text = text.lower().replace(\"\\n\", \" \")\n",
    "    \n",
    "    for char in \"!@#$%^&*()[]{};:,./<>?|`~-=_+●\\\\\":\n",
    "        text = text.replace(char, \" \")\n",
    "        \n",
    "    text = re.sub('[^A-Za-z]+ ', '', text).split(\" \")\n",
    "    \n",
    "    for word in text:\n",
    "        tmp_text += lemmatizer.lemmatize(word, 'v') + \" \"\n",
    "    \n",
    "    return tmp_text"
   ]
  },
  {
   "cell_type": "code",
   "execution_count": 11,
   "metadata": {
    "collapsed": false
   },
   "outputs": [],
   "source": [
    "nltk.data.path.append(\"/home\")"
   ]
  },
  {
   "cell_type": "code",
   "execution_count": 12,
   "metadata": {
    "collapsed": false
   },
   "outputs": [],
   "source": [
    "texts = list(map(clear_text, texts))"
   ]
  },
  {
   "cell_type": "code",
   "execution_count": 13,
   "metadata": {
    "collapsed": false
   },
   "outputs": [],
   "source": [
    "coursera_texts = list(map(clear_text, coursera_texts))"
   ]
  },
  {
   "cell_type": "code",
   "execution_count": 14,
   "metadata": {
    "collapsed": false
   },
   "outputs": [],
   "source": [
    "tmp_text = \"\"\n",
    "\n",
    "for text in texts:\n",
    "    tmp_text += text + \" \"\n",
    "\n",
    "job_words = set(tmp_text.split(\" \"))"
   ]
  },
  {
   "cell_type": "code",
   "execution_count": 15,
   "metadata": {
    "collapsed": false
   },
   "outputs": [],
   "source": [
    "tmp_text = \"\"\n",
    "\n",
    "for text in coursera_texts:\n",
    "    tmp_text += text + \" \"\n",
    "\n",
    "coursera_words = set(tmp_text.split(\" \"))"
   ]
  },
  {
   "cell_type": "code",
   "execution_count": 16,
   "metadata": {
    "collapsed": false
   },
   "outputs": [],
   "source": [
    "white_list = job_words & coursera_words"
   ]
  },
  {
   "cell_type": "code",
   "execution_count": 17,
   "metadata": {
    "collapsed": false
   },
   "outputs": [
    {
     "name": "stderr",
     "output_type": "stream",
     "text": [
      "100%|██████████| 835/835 [00:13<00:00, 59.88it/s]\n"
     ]
    }
   ],
   "source": [
    "tmp = []\n",
    "\n",
    "for text in tqdm(texts):\n",
    "    tmp_text = \"\"\n",
    "    for word in text.split(\" \"):\n",
    "        if word in white_list and word not in set(stopwords.words('english')):\n",
    "            tmp_text += word + \" \"\n",
    "\n",
    "    tmp.append(tmp_text)\n",
    "\n",
    "texts = tmp"
   ]
  },
  {
   "cell_type": "code",
   "execution_count": 18,
   "metadata": {
    "collapsed": false
   },
   "outputs": [
    {
     "name": "stderr",
     "output_type": "stream",
     "text": [
      "100%|██████████| 1499/1499 [00:16<00:00, 93.80it/s]\n"
     ]
    }
   ],
   "source": [
    "tmp = []\n",
    "\n",
    "for text in tqdm(coursera_texts):\n",
    "    tmp_text = \"\"\n",
    "    for word in text.split(\" \"):\n",
    "        if word in white_list and word not in set(stopwords.words('english')):\n",
    "            tmp_text += word + \" \"\n",
    "\n",
    "    tmp.append(tmp_text)\n",
    "\n",
    "coursera_texts = tmp"
   ]
  },
  {
   "cell_type": "code",
   "execution_count": 19,
   "metadata": {
    "collapsed": true
   },
   "outputs": [],
   "source": [
    "all_texts = texts + coursera_texts"
   ]
  },
  {
   "cell_type": "code",
   "execution_count": 20,
   "metadata": {
    "collapsed": false
   },
   "outputs": [],
   "source": [
    "vectorizer = text_a.TfidfVectorizer()"
   ]
  },
  {
   "cell_type": "code",
   "execution_count": 21,
   "metadata": {
    "collapsed": false
   },
   "outputs": [],
   "source": [
    "dtm = vectorizer.fit_transform(all_texts).toarray()"
   ]
  },
  {
   "cell_type": "code",
   "execution_count": 22,
   "metadata": {
    "collapsed": false
   },
   "outputs": [
    {
     "name": "stderr",
     "output_type": "stream",
     "text": [
      "/anaconda3/lib/python3.5/site-packages/scipy/spatial/distance.py:326: RuntimeWarning: invalid value encountered in double_scalars\n",
      "  dist = 1.0 - np.dot(u, v) / (norm(u) * norm(v))\n"
     ]
    }
   ],
   "source": [
    "cluster = KMeansClusterer(10, spatial.distance.cosine)\n",
    "cluster.cluster(dtm)"
   ]
  },
  {
   "cell_type": "code",
   "execution_count": 23,
   "metadata": {
    "collapsed": true
   },
   "outputs": [],
   "source": [
    "topic_words = []"
   ]
  },
  {
   "cell_type": "code",
   "execution_count": 24,
   "metadata": {
    "collapsed": false
   },
   "outputs": [
    {
     "name": "stderr",
     "output_type": "stream",
     "text": [
      "/anaconda3/lib/python3.5/site-packages/scipy/spatial/distance.py:326: RuntimeWarning: invalid value encountered in double_scalars\n",
      "  dist = 1.0 - np.dot(u, v) / (norm(u) * norm(v))\n"
     ]
    }
   ],
   "source": [
    "doctopic = [cluster.classify(i) for i in dtm]"
   ]
  },
  {
   "cell_type": "code",
   "execution_count": 25,
   "metadata": {
    "collapsed": false
   },
   "outputs": [
    {
     "data": {
      "text/plain": [
       "Counter({0: 348,\n",
       "         1: 630,\n",
       "         2: 180,\n",
       "         3: 489,\n",
       "         4: 70,\n",
       "         5: 266,\n",
       "         6: 81,\n",
       "         7: 39,\n",
       "         8: 161,\n",
       "         9: 70})"
      ]
     },
     "execution_count": 25,
     "metadata": {},
     "output_type": "execute_result"
    }
   ],
   "source": [
    "Counter(doctopic)"
   ]
  },
  {
   "cell_type": "code",
   "execution_count": 26,
   "metadata": {
    "collapsed": false
   },
   "outputs": [],
   "source": [
    "topic_names = [i[1] for i in topic_words]"
   ]
  },
  {
   "cell_type": "code",
   "execution_count": 27,
   "metadata": {
    "collapsed": false
   },
   "outputs": [],
   "source": [
    "topics = [np.argmax(i) for i in doctopic]"
   ]
  },
  {
   "cell_type": "code",
   "execution_count": 28,
   "metadata": {
    "collapsed": false
   },
   "outputs": [],
   "source": [
    "jobs_topic_names = pickle.load(open(\"job_topics.pck\", \"rb\"))"
   ]
  },
  {
   "cell_type": "code",
   "execution_count": 29,
   "metadata": {
    "collapsed": false
   },
   "outputs": [],
   "source": [
    "coursera_topic_names = [i[\"title\"] for i in coursera]"
   ]
  },
  {
   "cell_type": "code",
   "execution_count": 30,
   "metadata": {
    "collapsed": false
   },
   "outputs": [
    {
     "data": {
      "text/plain": [
       "2337"
      ]
     },
     "execution_count": 30,
     "metadata": {},
     "output_type": "execute_result"
    }
   ],
   "source": [
    "len(jobs_topic_names+coursera_topic_names)"
   ]
  },
  {
   "cell_type": "code",
   "execution_count": 31,
   "metadata": {
    "collapsed": true
   },
   "outputs": [],
   "source": [
    "from collections import defaultdict"
   ]
  },
  {
   "cell_type": "code",
   "execution_count": 32,
   "metadata": {
    "collapsed": true
   },
   "outputs": [],
   "source": [
    "clusters = defaultdict(lambda: [])"
   ]
  },
  {
   "cell_type": "code",
   "execution_count": 33,
   "metadata": {
    "collapsed": false
   },
   "outputs": [],
   "source": [
    "for a,b in zip(topics,[i + \" (job)\" for i  in jobs_topic_names] +[i + \" (course)\" for i in coursera_topic_names]):\n",
    "    clusters[a].append((b, \" (course)\" in b))"
   ]
  },
  {
   "cell_type": "code",
   "execution_count": 34,
   "metadata": {
    "collapsed": true
   },
   "outputs": [],
   "source": [
    "cluster_courses = []\n",
    "cluster_jobs = []"
   ]
  },
  {
   "cell_type": "code",
   "execution_count": 35,
   "metadata": {
    "collapsed": false
   },
   "outputs": [],
   "source": [
    "for a,b in enumerate(clusters):\n",
    "    tmp_courses = []\n",
    "    tmp_jobs = []\n",
    "    \n",
    "    if sum([i[1] for i in clusters[b]]) > 0:\n",
    "        for k in clusters[b]:\n",
    "            if k[1] == True:\n",
    "                tmp_courses.append(k[0])\n",
    "            else:\n",
    "                tmp_jobs.append(k[0])\n",
    "        cluster_courses.append(tmp_courses)\n",
    "        cluster_jobs.append(tmp_jobs)"
   ]
  },
  {
   "cell_type": "code",
   "execution_count": 36,
   "metadata": {
    "collapsed": true
   },
   "outputs": [],
   "source": [
    "api_dict = {}"
   ]
  },
  {
   "cell_type": "code",
   "execution_count": 37,
   "metadata": {
    "collapsed": true
   },
   "outputs": [],
   "source": [
    "for job_list,courses_list  in zip(cluster_jobs,cluster_courses):\n",
    "    for job in job_list:\n",
    "        api_dict[job] = courses_list"
   ]
  },
  {
   "cell_type": "code",
   "execution_count": 38,
   "metadata": {
    "collapsed": false
   },
   "outputs": [],
   "source": [
    "ALL_JOBS = json.dumps([tuples[j.replace(\" (job)\", \"\")] for j in list(api_dict.keys())])"
   ]
  },
  {
   "cell_type": "code",
   "execution_count": 39,
   "metadata": {
    "collapsed": false
   },
   "outputs": [],
   "source": [
    "from flask import Flask\n",
    "app = Flask(__name__)"
   ]
  },
  {
   "cell_type": "code",
   "execution_count": 40,
   "metadata": {
    "collapsed": false
   },
   "outputs": [],
   "source": [
    "@app.route(\"/course/<job>\")\n",
    "def get_courses(job):\n",
    "    return json.dumps(api_dict[job])"
   ]
  },
  {
   "cell_type": "code",
   "execution_count": 41,
   "metadata": {
    "collapsed": false
   },
   "outputs": [],
   "source": [
    "@app.route(\"/all_jobs\")\n",
    "def hello():\n",
    "    return ALL_JOBS"
   ]
  },
  {
   "cell_type": "code",
   "execution_count": 42,
   "metadata": {
    "collapsed": true
   },
   "outputs": [],
   "source": [
    "coursera = pickle.load(open('coursera.p', 'rb'))\n",
    "\n",
    "def get_meta(recommendations):\n",
    "    meta = [x for x in coursera if x['title'] in recommendations]\n",
    "    result = {}\n",
    "    # все из специализации для каждого в начало\n",
    "    for course in meta:\n",
    "        if 'specialization' in course:\n",
    "            for insert in list(filter(\n",
    "                    lambda x: 'specialization' in x and x['specialization'] == course['specialization'],\n",
    "                    coursera)):\n",
    "                result[insert['title']] = insert\n",
    "    for course in meta:\n",
    "        if 'specialization' not in course:\n",
    "            result[course['title']] = course\n",
    "    return result"
   ]
  },
  {
   "cell_type": "code",
   "execution_count": null,
   "metadata": {
    "collapsed": true
   },
   "outputs": [],
   "source": [
    "@app.route('recommend/<vector>&<job>'):\n",
    "def recommend(vector, job)\n",
    "    return (vector, job)"
   ]
  },
  {
   "cell_type": "code",
   "execution_count": null,
   "metadata": {
    "collapsed": false
   },
   "outputs": [],
   "source": [
    "app.run(host=\"0.0.0.0\", port=8080)"
   ]
  },
  {
   "cell_type": "code",
   "execution_count": null,
   "metadata": {
    "collapsed": true
   },
   "outputs": [],
   "source": []
  }
 ],
 "metadata": {
  "anaconda-cloud": {},
  "kernelspec": {
   "display_name": "Python [default]",
   "language": "python",
   "name": "python3"
  },
  "language_info": {
   "codemirror_mode": {
    "name": "ipython",
    "version": 3
   },
   "file_extension": ".py",
   "mimetype": "text/x-python",
   "name": "python",
   "nbconvert_exporter": "python",
   "pygments_lexer": "ipython3",
   "version": "3.5.2"
  }
 },
 "nbformat": 4,
 "nbformat_minor": 1
}
